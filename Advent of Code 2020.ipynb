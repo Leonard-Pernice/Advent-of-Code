{
 "cells": [
  {
   "cell_type": "code",
   "execution_count": 1,
   "metadata": {},
   "outputs": [],
   "source": [
    "import numpy as np\n",
    "import re"
   ]
  },
  {
   "cell_type": "markdown",
   "metadata": {},
   "source": [
    "## Day 1"
   ]
  },
  {
   "cell_type": "markdown",
   "metadata": {},
   "source": [
    "#### Inputs"
   ]
  },
  {
   "cell_type": "code",
   "execution_count": 10,
   "metadata": {},
   "outputs": [],
   "source": [
    "l = [1721,979,366,299,675,1456]\n",
    "individual_input = []\n",
    "with open('Advent of Code Input Files/day 1.txt', 'r') as ls:\n",
    "    for line in ls:\n",
    "        individual_input.append(int(line))"
   ]
  },
  {
   "cell_type": "markdown",
   "metadata": {},
   "source": [
    "#### Solutions"
   ]
  },
  {
   "cell_type": "code",
   "execution_count": 21,
   "metadata": {},
   "outputs": [
    {
     "name": "stdout",
     "output_type": "stream",
     "text": [
      "For 2 Dimensions:  703131\n",
      "For 3 Dimensions:  272423970\n"
     ]
    }
   ],
   "source": [
    "def day1solution(ls):\n",
    "    comb_array = np.array(np.meshgrid(ls,ls)).T.reshape(-1,2)\n",
    "    sums = np.sum(comb_array, axis = 1)\n",
    "    target = 2020\n",
    "    answer = 0\n",
    "    for i in range(0,len(sums)):\n",
    "        if sums[i] == target:\n",
    "            answer = comb_array[i,0] * comb_array[i,1]\n",
    "            break\n",
    "    print(\"For 2 Dimensions: \", answer)\n",
    "    \n",
    "    comb_array = np.array(np.meshgrid(ls,ls,ls)).T.reshape(-1,3)\n",
    "    sums = np.sum(comb_array, axis = 1)\n",
    "    target = 2020\n",
    "    answer = 0\n",
    "    for i in range(0,len(sums)):\n",
    "        if sums[i] == target:\n",
    "            answer = comb_array[i,0] * comb_array[i,1] * comb_array[i,2]\n",
    "            break\n",
    "    print(\"For 3 Dimensions: \", answer)\n",
    "day1solution(individual_input)"
   ]
  },
  {
   "cell_type": "markdown",
   "metadata": {},
   "source": [
    "## Day 2"
   ]
  },
  {
   "cell_type": "markdown",
   "metadata": {},
   "source": [
    "#### Inputs"
   ]
  },
  {
   "cell_type": "code",
   "execution_count": 169,
   "metadata": {},
   "outputs": [],
   "source": [
    "l1 = [[[1,3], 'a', 'abcde'],[[1,3], 'b', 'cdefg'],[[2,9], 'c', 'ccccccccc']]\n",
    "individual_input = []\n",
    "with open('Advent of Code Input Files/day 2.txt', 'r') as ls:\n",
    "    for line in ls:\n",
    "        a = str(line).replace(\":\",\"\").split(\" \")\n",
    "        a[0] = list(map(int,a[0].split(\"-\")))\n",
    "        a.append(str(line))\n",
    "        individual_input.append(a)"
   ]
  },
  {
   "cell_type": "markdown",
   "metadata": {},
   "source": [
    "#### Solutions - Part 1"
   ]
  },
  {
   "cell_type": "code",
   "execution_count": 163,
   "metadata": {},
   "outputs": [],
   "source": [
    "def day2solution(l):\n",
    "    okpw = 0\n",
    "    ok = []\n",
    "    bad = []\n",
    "    for entry in l:\n",
    "        if entry[0][0] <= entry[2].count(entry[1]) <= entry[0][1]:\n",
    "            okpw += 1\n",
    "            ok.append([entry[0][0], len(entry[2]), entry[0][1], entry[1], entry[2], entry[3]])\n",
    "        else:\n",
    "            bad.append([entry[0][0], len(entry[2]), entry[0][1], entry[1], entry[2], entry[3]])\n",
    "    return okpw, ok, bad"
   ]
  },
  {
   "cell_type": "code",
   "execution_count": 164,
   "metadata": {},
   "outputs": [
    {
     "data": {
      "text/plain": [
       "465"
      ]
     },
     "execution_count": 164,
     "metadata": {},
     "output_type": "execute_result"
    }
   ],
   "source": [
    "n, o, b = day2solution(individual_input)\n",
    "n"
   ]
  },
  {
   "cell_type": "markdown",
   "metadata": {},
   "source": [
    "#### Solutions - Part 2"
   ]
  },
  {
   "cell_type": "code",
   "execution_count": 185,
   "metadata": {},
   "outputs": [],
   "source": [
    "def day2solutionP2(l):\n",
    "    okpw = 0\n",
    "    for entry in l:\n",
    "        b = 0\n",
    "        c = 0\n",
    "        if entry[2][entry[0][0]-1] == entry[1]:\n",
    "            b = 1\n",
    "        if entry[2][entry[0][1]-1] == entry[1]:\n",
    "            c = 1\n",
    "        if 0 < b + c < 2:\n",
    "            okpw += 1\n",
    "    return okpw"
   ]
  },
  {
   "cell_type": "code",
   "execution_count": 186,
   "metadata": {},
   "outputs": [
    {
     "name": "stdout",
     "output_type": "stream",
     "text": [
      "294\n"
     ]
    }
   ],
   "source": [
    "print(day2solutionP2(individual_input))"
   ]
  },
  {
   "cell_type": "markdown",
   "metadata": {},
   "source": [
    "## Day 3"
   ]
  },
  {
   "cell_type": "markdown",
   "metadata": {},
   "source": [
    "#### Inputs"
   ]
  },
  {
   "cell_type": "code",
   "execution_count": 227,
   "metadata": {},
   "outputs": [],
   "source": [
    "l1 = ['..##.......',\n",
    "      '#...#...#..',\n",
    "      '.#....#..#.',\n",
    "      '..#.#...#.#',\n",
    "      '.#...##..#.',\n",
    "      '..#.##.....',\n",
    "      '.#.#.#....#',\n",
    "      '.#........#',\n",
    "      '#.##...#...',\n",
    "      '#...##....#',\n",
    "      '.#..#...#.#']\n",
    "individual_input = []\n",
    "with open('Advent of Code Input Files/day 3.txt', 'r') as ls:\n",
    "    for line in ls:\n",
    "        line = line.replace(\"\\n\",\"\")\n",
    "        individual_input.append(line)"
   ]
  },
  {
   "cell_type": "code",
   "execution_count": 243,
   "metadata": {},
   "outputs": [],
   "source": [
    "def day3solution(l, step):\n",
    "    start = [0,0]\n",
    "    height = len(l)\n",
    "    rightbound = len(l[0])\n",
    "    running = True\n",
    "    trees = 0\n",
    "    while running:\n",
    "        next_step = [start[0]+step[0],start[1]+step[1]]\n",
    "        if next_step[1] >= rightbound:\n",
    "            next_step[1] = next_step[1] - rightbound\n",
    "        if next_step[0] >= height:\n",
    "            running = False\n",
    "            break\n",
    "        if l[next_step[0]][next_step[1]] == '#':\n",
    "            trees += 1\n",
    "        start = next_step\n",
    "    return trees\n",
    "        "
   ]
  },
  {
   "cell_type": "code",
   "execution_count": 245,
   "metadata": {},
   "outputs": [
    {
     "data": {
      "text/plain": [
       "2224913600"
      ]
     },
     "execution_count": 245,
     "metadata": {},
     "output_type": "execute_result"
    }
   ],
   "source": [
    "steps = [[1,1],[1,3],[1,5],[1,7],[2,1]]\n",
    "encounters = 1\n",
    "for s in steps:\n",
    "    encounters = encounters * day3solution(individual_input, s)\n",
    "encounters"
   ]
  },
  {
   "cell_type": "markdown",
   "metadata": {},
   "source": [
    "## Day 4"
   ]
  },
  {
   "cell_type": "markdown",
   "metadata": {},
   "source": [
    "#### Inputs"
   ]
  },
  {
   "cell_type": "code",
   "execution_count": 134,
   "metadata": {},
   "outputs": [],
   "source": [
    "l1 = [\n",
    "    {\"ecl\":\"gry\", \"pid\":\"860033327\", \"eyr\":2020, \"hcl\":\"#fffffd\",\"byr\":1937, \"iyr\":2017, \"cid\":147, \"hgt\":\"183cm\"},\n",
    "    {\"iyr\":2013, \"ecl\":\"amb\", \"cid\":350, \"eyr\":2023, \"pid\":\"028048884\", \"hcl\":\"#cfa07d\", \"byr\":1929},\n",
    "    {\"hcl\":\"#ae17e1\", \"iyr\":2013,\"eyr\":2024,\"ecl\":\"brn\", \"pid\":\"760753108\", \"byr\":1931,\"hgt\":\"179cm\"},\n",
    "    {\"hcl\":\"#cfa07d\", \"eyr\":2025, \"pid\":\"166559648\",\"iyr\":2011, \"ecl\":\"brn\", \"hgt\":\"59in\"}\n",
    "]\n",
    "individual_input = []\n",
    "with open('Advent of Code Input Files/day 4.txt', 'r') as ls:\n",
    "    raws = ls.read()\n",
    "    passports = raws.split(\"\\n\\n\")\n",
    "    passports = [port.replace(\"\\n\", \" \") for port in passports]\n"
   ]
  },
  {
   "cell_type": "markdown",
   "metadata": {},
   "source": [
    "#### Solution"
   ]
  },
  {
   "cell_type": "code",
   "execution_count": 132,
   "metadata": {},
   "outputs": [],
   "source": [
    "def day4solution(l):\n",
    "    counter = 0\n",
    "    musthave = ['byr','iyr','eyr','hgt','hcl','ecl','pid']\n",
    "    for port in l:\n",
    "        ok = True\n",
    "        for have in musthave:\n",
    "            if have not in port:\n",
    "                ok = False\n",
    "                continue\n",
    "        byr = re.search(r\"byr:(19[2-9]\\d)|(byr:200[0-2])\", port)\n",
    "        iyr = re.search(r\"iyr:(201\\d|2020)\", port)\n",
    "        eyr = re.search(r\"eyr:(202\\d|2030)\", port)\n",
    "        hgt = re.search(r\"hgt:(1[5-8]\\dcm|19[0-3]cm|59in|[6]\\din|7[0-6]in)\", port)\n",
    "        hcl = re.search(r\"hcl:#([0-9a-f]{6})\\b\", port)\n",
    "        ecl = re.search(r\"ecl:(amb|blu|brn|gry|grn|hzl|oth)\", port)\n",
    "        pid = re.search(r\"pid:\\d{9}\\b\", port)\n",
    "        if byr and iyr and eyr and hgt and hcl and ecl and pid:\n",
    "            counter+=1\n",
    "    return counter"
   ]
  },
  {
   "cell_type": "code",
   "execution_count": 133,
   "metadata": {},
   "outputs": [
    {
     "name": "stdout",
     "output_type": "stream",
     "text": [
      "131\n"
     ]
    }
   ],
   "source": [
    "print(day4solution(passports))"
   ]
  },
  {
   "cell_type": "markdown",
   "metadata": {},
   "source": [
    "## Day 5"
   ]
  },
  {
   "cell_type": "markdown",
   "metadata": {},
   "source": [
    "#### Inputs"
   ]
  },
  {
   "cell_type": "code",
   "execution_count": 200,
   "metadata": {},
   "outputs": [],
   "source": [
    "l1 = [\"BFFFBBFRRR\",\"FFFBBBFRRR\",\"BBFFBBFRLL\",\"FBFBBFFRLR\"]\n",
    "individual_input = []\n",
    "with open('Advent of Code Input Files/day 5.txt', 'r') as ls:\n",
    "    raws = ls.read()\n",
    "    seats = raws.split(\"\\n\")"
   ]
  },
  {
   "cell_type": "markdown",
   "metadata": {},
   "source": [
    "#### Solution"
   ]
  },
  {
   "cell_type": "code",
   "execution_count": 273,
   "metadata": {},
   "outputs": [],
   "source": [
    "def splits(l):\n",
    "    half = len(l)//2\n",
    "    return l[:half], l[half:]\n",
    "\n",
    "def day5solution(l):\n",
    "    seating = {}\n",
    "    ids = []\n",
    "    for seat in l:\n",
    "        rows = list(range(0,128))\n",
    "        cols = list(range(0,8))\n",
    "        for i in range(0,7):\n",
    "            front, back = splits(rows)\n",
    "            if seat[i] == 'F':\n",
    "                rows = front\n",
    "            else:\n",
    "                rows = back\n",
    "        for i in range(7,10):\n",
    "            left, right = splits(cols)\n",
    "            if seat[i] == 'L':\n",
    "                cols = left\n",
    "            else:\n",
    "                cols = right\n",
    "        seating[seat] = [rows[0],cols[0]]\n",
    "        ids.append(rows[0]*8+cols[0])\n",
    "        #print(seating[seat])\n",
    "    return seating, ids"
   ]
  },
  {
   "cell_type": "code",
   "execution_count": 274,
   "metadata": {},
   "outputs": [
    {
     "data": {
      "text/plain": [
       "813"
      ]
     },
     "execution_count": 274,
     "metadata": {},
     "output_type": "execute_result"
    }
   ],
   "source": [
    "s, u = day5solution(seats)\n",
    "max(u)"
   ]
  },
  {
   "cell_type": "code",
   "execution_count": 275,
   "metadata": {},
   "outputs": [
    {
     "name": "stdout",
     "output_type": "stream",
     "text": [
      "[612]\n"
     ]
    }
   ],
   "source": [
    "u.sort()\n",
    "def missing_elements(L):\n",
    "    start, end = L[0], L[-1]\n",
    "    return sorted(set(range(start, end + 1)).difference(L))\n",
    "print(missing_elements(u))"
   ]
  },
  {
   "cell_type": "markdown",
   "metadata": {},
   "source": [
    "## Day 6"
   ]
  },
  {
   "cell_type": "markdown",
   "metadata": {},
   "source": [
    "#### Inputs"
   ]
  },
  {
   "cell_type": "code",
   "execution_count": 21,
   "metadata": {},
   "outputs": [],
   "source": [
    "l1 = [[\"abc\"],[\"a\",\"b\",\"c\"],[\"ab\",\"ac\"],[\"a\",\"a\",\"a\",\"a\"],[\"b\"]]\n",
    "l2 = [[\"a\",\"b\",\"c\"],[\"a\",\"b\",\"c\"],[\"a\",\"b\",\"a\",\"c\"],[\"a\",\"a\",\"a\",\"a\"],[\"b\"]]\n",
    "with open('Advent of Code Input Files/day 6.txt', 'r') as ls:\n",
    "    raws = ls.read()\n",
    "    answers = raws.split(\"\\n\\n\")\n",
    "    answers = [answer.replace(\"\\n\", \" \").replace(\" \",\"\") for answer in answers]\n",
    "    allanswers = []\n",
    "    for group in answers:\n",
    "        allanswers.append([char for char in group])\n",
    "with open('Advent of Code Input Files/day 6.txt', 'r') as ls:\n",
    "    raws = ls.read()\n",
    "    answers = raws.split(\"\\n\\n\")\n",
    "    answersp2 = [answer.replace(\"\\n\", \" \").split(\" \") for answer in answers]\n",
    "#     groups = []\n",
    "#     for group in answersp2:\n",
    "#         people = []\n",
    "#         for person in group:\n",
    "#             people.append([c for c in person])\n",
    "#         groups.append(people)"
   ]
  },
  {
   "cell_type": "markdown",
   "metadata": {},
   "source": [
    "#### Solution"
   ]
  },
  {
   "cell_type": "code",
   "execution_count": 4,
   "metadata": {},
   "outputs": [],
   "source": [
    "def day6solution(l):\n",
    "    count = 0\n",
    "    for group in l:\n",
    "        count += len(set(group))\n",
    "    return count"
   ]
  },
  {
   "cell_type": "code",
   "execution_count": 5,
   "metadata": {},
   "outputs": [
    {
     "data": {
      "text/plain": [
       "6565"
      ]
     },
     "execution_count": 5,
     "metadata": {},
     "output_type": "execute_result"
    }
   ],
   "source": [
    "day6solution(allanswers)"
   ]
  },
  {
   "cell_type": "code",
   "execution_count": 33,
   "metadata": {},
   "outputs": [],
   "source": [
    "def day6solutionP2(l):\n",
    "    count = 0\n",
    "    for group in l:\n",
    "        z = list(set(group[0]))\n",
    "        i = 1\n",
    "        for i in range(1,len(group)):\n",
    "            z = list(set(z) & set(group[i]))\n",
    "        count += len(z)\n",
    "    return count"
   ]
  },
  {
   "cell_type": "code",
   "execution_count": 35,
   "metadata": {},
   "outputs": [
    {
     "data": {
      "text/plain": [
       "3137"
      ]
     },
     "execution_count": 35,
     "metadata": {},
     "output_type": "execute_result"
    }
   ],
   "source": [
    "day6solutionP2(answersp2)"
   ]
  },
  {
   "cell_type": "code",
   "execution_count": null,
   "metadata": {},
   "outputs": [],
   "source": []
  }
 ],
 "metadata": {
  "kernelspec": {
   "display_name": "Python 3",
   "language": "python",
   "name": "python3"
  },
  "language_info": {
   "codemirror_mode": {
    "name": "ipython",
    "version": 3
   },
   "file_extension": ".py",
   "mimetype": "text/x-python",
   "name": "python",
   "nbconvert_exporter": "python",
   "pygments_lexer": "ipython3",
   "version": "3.8.5"
  }
 },
 "nbformat": 4,
 "nbformat_minor": 4
}
