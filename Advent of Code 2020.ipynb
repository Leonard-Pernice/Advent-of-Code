{
 "cells": [
  {
   "cell_type": "code",
   "execution_count": 49,
   "metadata": {},
   "outputs": [],
   "source": [
    "import numpy as np"
   ]
  },
  {
   "cell_type": "markdown",
   "metadata": {},
   "source": [
    "## Day 1"
   ]
  },
  {
   "cell_type": "markdown",
   "metadata": {},
   "source": [
    "#### Inputs"
   ]
  },
  {
   "cell_type": "code",
   "execution_count": 14,
   "metadata": {},
   "outputs": [],
   "source": [
    "l = [1721,979,366,299,675,1456]\n",
    "individual_input = []\n",
    "with open('Advent of Code Input Files/day 1.txt', 'r') as ls:\n",
    "    for line in ls:\n",
    "        individual_input.append(int(line))"
   ]
  },
  {
   "cell_type": "markdown",
   "metadata": {},
   "source": [
    "#### Solutions - Part 1"
   ]
  },
  {
   "cell_type": "code",
   "execution_count": 41,
   "metadata": {},
   "outputs": [
    {
     "name": "stdout",
     "output_type": "stream",
     "text": [
      "514579\n"
     ]
    }
   ],
   "source": [
    "comb_array = np.array(np.meshgrid(l,l)).T.reshape(-1,2)\n",
    "sums = np.sum(comb_array, axis = 1)\n",
    "target = 2020\n",
    "answer = 0\n",
    "for i in range(0,len(sums)-1):\n",
    "    if sums[i] == target:\n",
    "        answer = comb_array[i,0] * comb_array[i,1]\n",
    "        break\n",
    "print(answer)"
   ]
  },
  {
   "cell_type": "code",
   "execution_count": 42,
   "metadata": {},
   "outputs": [
    {
     "name": "stdout",
     "output_type": "stream",
     "text": [
      "703131\n"
     ]
    }
   ],
   "source": [
    "comb_array = np.array(np.meshgrid(individual_input,individual_input)).T.reshape(-1,2)\n",
    "sums = np.sum(comb_array, axis = 1)\n",
    "target = 2020\n",
    "answer = 0\n",
    "for i in range(0,len(sums)-1):\n",
    "    if sums[i] == target:\n",
    "        answer = comb_array[i,0] * comb_array[i,1]\n",
    "        break\n",
    "print(answer)"
   ]
  },
  {
   "cell_type": "markdown",
   "metadata": {},
   "source": [
    "#### Solutions - Part 2"
   ]
  },
  {
   "cell_type": "code",
   "execution_count": 47,
   "metadata": {},
   "outputs": [
    {
     "name": "stdout",
     "output_type": "stream",
     "text": [
      "241861950\n"
     ]
    }
   ],
   "source": [
    "comb_array = np.array(np.meshgrid(l,l,l)).T.reshape(-1,3)\n",
    "sums = np.sum(comb_array, axis = 1)\n",
    "target = 2020\n",
    "answer = 0\n",
    "for i in range(0,len(sums)-1):\n",
    "    if sums[i] == target:\n",
    "        answer = comb_array[i,0] * comb_array[i,1] * comb_array[i,2]\n",
    "        break\n",
    "print(answer)"
   ]
  },
  {
   "cell_type": "code",
   "execution_count": 48,
   "metadata": {},
   "outputs": [
    {
     "name": "stdout",
     "output_type": "stream",
     "text": [
      "272423970\n"
     ]
    }
   ],
   "source": [
    "comb_array = np.array(np.meshgrid(individual_input,individual_input,individual_input)).T.reshape(-1,3)\n",
    "sums = np.sum(comb_array, axis = 1)\n",
    "target = 2020\n",
    "answer = 0\n",
    "for i in range(0,len(sums)-1):\n",
    "    if sums[i] == target:\n",
    "        answer = comb_array[i,0] * comb_array[i,1] * comb_array[i,2]\n",
    "        break\n",
    "print(answer)"
   ]
  },
  {
   "cell_type": "code",
   "execution_count": null,
   "metadata": {},
   "outputs": [],
   "source": []
  }
 ],
 "metadata": {
  "kernelspec": {
   "display_name": "Python 3",
   "language": "python",
   "name": "python3"
  },
  "language_info": {
   "codemirror_mode": {
    "name": "ipython",
    "version": 3
   },
   "file_extension": ".py",
   "mimetype": "text/x-python",
   "name": "python",
   "nbconvert_exporter": "python",
   "pygments_lexer": "ipython3",
   "version": "3.8.5"
  }
 },
 "nbformat": 4,
 "nbformat_minor": 4
}
