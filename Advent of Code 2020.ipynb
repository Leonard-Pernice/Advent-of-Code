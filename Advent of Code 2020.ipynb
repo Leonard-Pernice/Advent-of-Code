{
 "cells": [
  {
   "cell_type": "code",
   "execution_count": 11,
   "metadata": {},
   "outputs": [],
   "source": [
    "import numpy as np"
   ]
  },
  {
   "cell_type": "markdown",
   "metadata": {},
   "source": [
    "## Day 1"
   ]
  },
  {
   "cell_type": "markdown",
   "metadata": {},
   "source": [
    "#### Inputs"
   ]
  },
  {
   "cell_type": "code",
   "execution_count": 10,
   "metadata": {},
   "outputs": [],
   "source": [
    "l = [1721,979,366,299,675,1456]\n",
    "individual_input = []\n",
    "with open('Advent of Code Input Files/day 1.txt', 'r') as ls:\n",
    "    for line in ls:\n",
    "        individual_input.append(int(line))"
   ]
  },
  {
   "cell_type": "markdown",
   "metadata": {},
   "source": [
    "#### Solutions"
   ]
  },
  {
   "cell_type": "code",
   "execution_count": 21,
   "metadata": {},
   "outputs": [
    {
     "name": "stdout",
     "output_type": "stream",
     "text": [
      "For 2 Dimensions:  703131\n",
      "For 3 Dimensions:  272423970\n"
     ]
    }
   ],
   "source": [
    "def day1solution(ls):\n",
    "    comb_array = np.array(np.meshgrid(ls,ls)).T.reshape(-1,2)\n",
    "    sums = np.sum(comb_array, axis = 1)\n",
    "    target = 2020\n",
    "    answer = 0\n",
    "    for i in range(0,len(sums)):\n",
    "        if sums[i] == target:\n",
    "            answer = comb_array[i,0] * comb_array[i,1]\n",
    "            break\n",
    "    print(\"For 2 Dimensions: \", answer)\n",
    "    \n",
    "    comb_array = np.array(np.meshgrid(ls,ls,ls)).T.reshape(-1,3)\n",
    "    sums = np.sum(comb_array, axis = 1)\n",
    "    target = 2020\n",
    "    answer = 0\n",
    "    for i in range(0,len(sums)):\n",
    "        if sums[i] == target:\n",
    "            answer = comb_array[i,0] * comb_array[i,1] * comb_array[i,2]\n",
    "            break\n",
    "    print(\"For 3 Dimensions: \", answer)\n",
    "day1solution(individual_input)"
   ]
  },
  {
   "cell_type": "markdown",
   "metadata": {},
   "source": [
    "## Day 2"
   ]
  },
  {
   "cell_type": "markdown",
   "metadata": {},
   "source": [
    "#### Inputs"
   ]
  },
  {
   "cell_type": "code",
   "execution_count": 169,
   "metadata": {},
   "outputs": [],
   "source": [
    "l1 = [[[1,3], 'a', 'abcde'],[[1,3], 'b', 'cdefg'],[[2,9], 'c', 'ccccccccc']]\n",
    "individual_input = []\n",
    "with open('Advent of Code Input Files/day 2.txt', 'r') as ls:\n",
    "    for line in ls:\n",
    "        a = str(line).replace(\":\",\"\").split(\" \")\n",
    "        a[0] = list(map(int,a[0].split(\"-\")))\n",
    "        a.append(str(line))\n",
    "        individual_input.append(a)"
   ]
  },
  {
   "cell_type": "markdown",
   "metadata": {},
   "source": [
    "#### Solutions - Part 1"
   ]
  },
  {
   "cell_type": "code",
   "execution_count": 163,
   "metadata": {},
   "outputs": [],
   "source": [
    "def day2solution(l):\n",
    "    okpw = 0\n",
    "    ok = []\n",
    "    bad = []\n",
    "    for entry in l:\n",
    "        if entry[0][0] <= entry[2].count(entry[1]) <= entry[0][1]:\n",
    "            okpw += 1\n",
    "            ok.append([entry[0][0], len(entry[2]), entry[0][1], entry[1], entry[2], entry[3]])\n",
    "        else:\n",
    "            bad.append([entry[0][0], len(entry[2]), entry[0][1], entry[1], entry[2], entry[3]])\n",
    "    return okpw, ok, bad"
   ]
  },
  {
   "cell_type": "code",
   "execution_count": 164,
   "metadata": {},
   "outputs": [
    {
     "data": {
      "text/plain": [
       "465"
      ]
     },
     "execution_count": 164,
     "metadata": {},
     "output_type": "execute_result"
    }
   ],
   "source": [
    "n, o, b = day2solution(individual_input)\n",
    "n"
   ]
  },
  {
   "cell_type": "markdown",
   "metadata": {},
   "source": [
    "#### Solutions - Part 2"
   ]
  },
  {
   "cell_type": "code",
   "execution_count": 185,
   "metadata": {},
   "outputs": [],
   "source": [
    "def day2solutionP2(l):\n",
    "    okpw = 0\n",
    "    for entry in l:\n",
    "        b = 0\n",
    "        c = 0\n",
    "        if entry[2][entry[0][0]-1] == entry[1]:\n",
    "            b = 1\n",
    "        if entry[2][entry[0][1]-1] == entry[1]:\n",
    "            c = 1\n",
    "        if 0 < b + c < 2:\n",
    "            okpw += 1\n",
    "    return okpw"
   ]
  },
  {
   "cell_type": "code",
   "execution_count": 186,
   "metadata": {},
   "outputs": [
    {
     "name": "stdout",
     "output_type": "stream",
     "text": [
      "294\n"
     ]
    }
   ],
   "source": [
    "print(day2solutionP2(individual_input))"
   ]
  },
  {
   "cell_type": "code",
   "execution_count": null,
   "metadata": {},
   "outputs": [],
   "source": []
  }
 ],
 "metadata": {
  "kernelspec": {
   "display_name": "Python 3",
   "language": "python",
   "name": "python3"
  },
  "language_info": {
   "codemirror_mode": {
    "name": "ipython",
    "version": 3
   },
   "file_extension": ".py",
   "mimetype": "text/x-python",
   "name": "python",
   "nbconvert_exporter": "python",
   "pygments_lexer": "ipython3",
   "version": "3.8.5"
  }
 },
 "nbformat": 4,
 "nbformat_minor": 4
}
