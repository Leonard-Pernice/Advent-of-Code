{
 "cells": [
  {
   "cell_type": "code",
   "execution_count": 11,
   "metadata": {},
   "outputs": [],
   "source": [
    "import numpy as np"
   ]
  },
  {
   "cell_type": "markdown",
   "metadata": {},
   "source": [
    "## Day 1"
   ]
  },
  {
   "cell_type": "markdown",
   "metadata": {},
   "source": [
    "#### Inputs"
   ]
  },
  {
   "cell_type": "code",
   "execution_count": 10,
   "metadata": {},
   "outputs": [],
   "source": [
    "l = [1721,979,366,299,675,1456]\n",
    "individual_input = []\n",
    "with open('Advent of Code Input Files/day 1.txt', 'r') as ls:\n",
    "    for line in ls:\n",
    "        individual_input.append(int(line))"
   ]
  },
  {
   "cell_type": "markdown",
   "metadata": {},
   "source": [
    "#### Solutions"
   ]
  },
  {
   "cell_type": "code",
   "execution_count": 21,
   "metadata": {},
   "outputs": [
    {
     "name": "stdout",
     "output_type": "stream",
     "text": [
      "For 2 Dimensions:  703131\n",
      "For 3 Dimensions:  272423970\n"
     ]
    }
   ],
   "source": [
    "def day1solution(ls):\n",
    "    comb_array = np.array(np.meshgrid(ls,ls)).T.reshape(-1,2)\n",
    "    sums = np.sum(comb_array, axis = 1)\n",
    "    target = 2020\n",
    "    answer = 0\n",
    "    for i in range(0,len(sums)):\n",
    "        if sums[i] == target:\n",
    "            answer = comb_array[i,0] * comb_array[i,1]\n",
    "            break\n",
    "    print(\"For 2 Dimensions: \", answer)\n",
    "    \n",
    "    comb_array = np.array(np.meshgrid(ls,ls,ls)).T.reshape(-1,3)\n",
    "    sums = np.sum(comb_array, axis = 1)\n",
    "    target = 2020\n",
    "    answer = 0\n",
    "    for i in range(0,len(sums)):\n",
    "        if sums[i] == target:\n",
    "            answer = comb_array[i,0] * comb_array[i,1] * comb_array[i,2]\n",
    "            break\n",
    "    print(\"For 3 Dimensions: \", answer)\n",
    "day1solution(individual_input)"
   ]
  },
  {
   "cell_type": "markdown",
   "metadata": {},
   "source": [
    "## Day 2"
   ]
  },
  {
   "cell_type": "code",
   "execution_count": null,
   "metadata": {},
   "outputs": [],
   "source": []
  },
  {
   "cell_type": "code",
   "execution_count": null,
   "metadata": {},
   "outputs": [],
   "source": []
  },
  {
   "cell_type": "code",
   "execution_count": null,
   "metadata": {},
   "outputs": [],
   "source": []
  }
 ],
 "metadata": {
  "kernelspec": {
   "display_name": "Python 3",
   "language": "python",
   "name": "python3"
  },
  "language_info": {
   "codemirror_mode": {
    "name": "ipython",
    "version": 3
   },
   "file_extension": ".py",
   "mimetype": "text/x-python",
   "name": "python",
   "nbconvert_exporter": "python",
   "pygments_lexer": "ipython3",
   "version": "3.8.5"
  }
 },
 "nbformat": 4,
 "nbformat_minor": 4
}
